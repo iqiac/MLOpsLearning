{
 "cells": [
  {
   "cell_type": "code",
   "execution_count": null,
   "metadata": {},
   "outputs": [],
   "source": [
    "import matplotlib.pyplot as plt\n",
    "import numpy as np\n",
    "import seaborn as sns\n",
    "from sklearn.datasets import load_diabetes\n",
    "from sklearn.impute import KNNImputer, SimpleImputer\n",
    "from sklearn.ensemble import RandomForestRegressor\n",
    "from sklearn.pipeline import Pipeline\n",
    "from sklearn.metrics import root_mean_squared_error\n",
    "from sklearn.model_selection import train_test_split, cross_val_score, GridSearchCV\n",
    "from sklearn.preprocessing import StandardScaler"
   ]
  },
  {
   "cell_type": "code",
   "execution_count": null,
   "metadata": {},
   "outputs": [],
   "source": [
    "SEED = 42\n",
    "FOLDS = 5"
   ]
  },
  {
   "cell_type": "markdown",
   "metadata": {},
   "source": [
    "### Load data\n",
    "Use Diabetes dataset, where based on features, the quantitatice measure of disease progression one year after baseline is predicted."
   ]
  },
  {
   "cell_type": "code",
   "execution_count": null,
   "metadata": {},
   "outputs": [],
   "source": [
    "X, y = load_diabetes(as_frame=True, return_X_y=True)\n",
    "\n",
    "print(\"Data frame shape:\", X.shape)\n",
    "X.describe()"
   ]
  },
  {
   "cell_type": "markdown",
   "metadata": {},
   "source": [
    "### Check for multicolinearity\n",
    "We can see that features *s1* and *s2* are highly correlated and *s3* and *s4* are somewhat highly negatively correlated.\n",
    "This would be a call for feature selection and feature engineering.\n",
    "However since the feature-dimensionality is already small, we resort to regularization techniques or tree-based models which are more robust against multicolinearity."
   ]
  },
  {
   "cell_type": "code",
   "execution_count": null,
   "metadata": {},
   "outputs": [],
   "source": [
    "plt.figure(figsize=(8,6))\n",
    "sns.heatmap(X.corr(), annot=True, cmap='coolwarm')\n",
    "plt.title('Correlation Matrix')\n",
    "plt.show()"
   ]
  },
  {
   "cell_type": "markdown",
   "metadata": {},
   "source": [
    "### Manipulate and split data\n",
    "We intentionally remove some entries to be able to use data imputation later."
   ]
  },
  {
   "cell_type": "code",
   "execution_count": null,
   "metadata": {},
   "outputs": [],
   "source": [
    "np.random.seed(SEED)\n",
    "X = X.mask(np.random.random(X.shape) < 1e-2) # 1% NaN\n",
    "print(X.isna().sum())\n",
    "\n",
    "X_train, X_test, y_train, y_test = train_test_split(X, y, test_size=.25, random_state=SEED)"
   ]
  },
  {
   "cell_type": "markdown",
   "metadata": {},
   "source": [
    "### Choose model, scaler, impute strategies"
   ]
  },
  {
   "cell_type": "code",
   "execution_count": null,
   "metadata": {},
   "outputs": [],
   "source": [
    "impute_strategies = {\n",
    "  'mean': SimpleImputer(strategy='mean'),\n",
    "  'median': SimpleImputer(strategy='median'),\n",
    "  'most_frequent': SimpleImputer(strategy='most_frequent'),\n",
    "  'knn': KNNImputer(n_neighbors=3),\n",
    "}\n",
    "scaler = StandardScaler()\n",
    "model = RandomForestRegressor(n_jobs=-1)"
   ]
  },
  {
   "cell_type": "markdown",
   "metadata": {},
   "source": [
    "### Impute data\n",
    "To deal with incomplete data, we need to impute missing values.\n",
    "Use cross-validation to find good strategy."
   ]
  },
  {
   "cell_type": "code",
   "execution_count": null,
   "metadata": {},
   "outputs": [],
   "source": [
    "plt.figure(figsize=(6, 4))\n",
    "for name, imputer in impute_strategies.items():\n",
    "  pipe = Pipeline([\n",
    "    ('imputer', imputer),\n",
    "    ('scaler', scaler),\n",
    "    ('model', model)\n",
    "  ])\n",
    "  scores = cross_val_score(pipe, X_train, y_train, cv=FOLDS, scoring='neg_mean_squared_error')\n",
    "  print(f\"Negative mean squared error for {name}:\", np.mean(scores))\n",
    "  plt.plot(range(FOLDS), scores, label=name)\n",
    "plt.title(\"Negative mean squared error of each fold across different impute strategies\")\n",
    "plt.xlabel(\"Folds\")\n",
    "plt.ylabel(\"Negative mean squared error\")\n",
    "plt.legend()\n",
    "plt.grid(True)\n",
    "plt.show()"
   ]
  },
  {
   "cell_type": "markdown",
   "metadata": {},
   "source": [
    "### Hyperparameter optimization\n",
    "From previous results, we decide to continue with *knn* imputer.\n",
    "We use nested cross-validation to find good hyper-parameters."
   ]
  },
  {
   "cell_type": "code",
   "execution_count": null,
   "metadata": {},
   "outputs": [],
   "source": [
    "parameters = {\n",
    "  'imputer__n_neighbors': [1, 3, 5],\n",
    "  'model__n_estimators': [10, 100, 500],\n",
    "  'model__max_depth': [None, 10, 30],\n",
    "}\n",
    "pipe = Pipeline([\n",
    "  ('imputer', impute_strategies['knn']),\n",
    "  ('model', RandomForestRegressor())\n",
    "])\n",
    "regr = GridSearchCV(pipe, parameters, cv=FOLDS, scoring='r2')"
   ]
  },
  {
   "cell_type": "code",
   "execution_count": null,
   "metadata": {},
   "outputs": [],
   "source": [
    "regr.fit(X_train, y_train)\n",
    "y_pred = regr.predict(X_test)\n",
    "print(regr.best_params_)\n",
    "print(\"RMSE\", root_mean_squared_error(y_test, y_pred))"
   ]
  },
  {
   "cell_type": "code",
   "execution_count": null,
   "metadata": {},
   "outputs": [],
   "source": [
    "num_dp = y_test.shape[0]\n",
    "plt.figure(figsize=(8,4))\n",
    "plt.plot(range(num_dp), y_test, label='True', color='red')\n",
    "plt.plot(range(num_dp), y_pred, label='Predicted', color='blue')\n",
    "plt.legend()\n",
    "plt.grid(True)\n",
    "plt.title('True vs Predicted')\n",
    "plt.show()"
   ]
  }
 ],
 "metadata": {
  "kernelspec": {
   "display_name": "Python 3",
   "language": "python",
   "name": "python3"
  },
  "language_info": {
   "codemirror_mode": {
    "name": "ipython",
    "version": 3
   },
   "file_extension": ".py",
   "mimetype": "text/x-python",
   "name": "python",
   "nbconvert_exporter": "python",
   "pygments_lexer": "ipython3",
   "version": "3.12.9"
  }
 },
 "nbformat": 4,
 "nbformat_minor": 2
}
